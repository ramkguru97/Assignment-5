{
  "nbformat": 4,
  "nbformat_minor": 0,
  "metadata": {
    "kernelspec": {
      "display_name": "Python 3",
      "language": "python",
      "name": "python3"
    },
    "language_info": {
      "codemirror_mode": {
        "name": "ipython",
        "version": 3
      },
      "file_extension": ".py",
      "mimetype": "text/x-python",
      "name": "python",
      "nbconvert_exporter": "python",
      "pygments_lexer": "ipython3",
      "version": "3.7.4"
    },
    "colab": {
      "name": "Preparing Data for Modelling.ipynb",
      "provenance": [],
      "collapsed_sections": [],
      "include_colab_link": true
    }
  },
  "cells": [
    {
      "cell_type": "markdown",
      "metadata": {
        "id": "view-in-github",
        "colab_type": "text"
      },
      "source": [
        "<a href=\"https://colab.research.google.com/github/ramkguru97/Assignment-5/blob/main/Preparing_Data_for_Modelling.ipynb\" target=\"_parent\"><img src=\"https://colab.research.google.com/assets/colab-badge.svg\" alt=\"Open In Colab\"/></a>"
      ]
    },
    {
      "cell_type": "markdown",
      "metadata": {
        "id": "hLEVsTnkk0Fv"
      },
      "source": [
        "## Chapter 5 Preparing Data For Modeling assignment by Ramesh Gururajan\n",
        "## Using the Churn dataset\n",
        "## This practice solution follows coding conventions from the Larose text\n",
        "## examples in Chapter 5 \n",
        "<br>"
      ]
    },
    {
      "cell_type": "code",
      "metadata": {
        "id": "fp2L9jEgk0GA",
        "colab": {
          "base_uri": "https://localhost:8080/"
        },
        "outputId": "f8c1db02-2e67-46ae-b125-99c2235b78fc"
      },
      "source": [
        "#We are working with the Churn data set \n",
        "\n",
        "# import required package\n",
        "import pandas as pd\n",
        "\n",
        "# read the csv adult data using the pandas package\n",
        "churn = pd.read_csv(\"churn\")\n",
        "churn.info()\n"
      ],
      "execution_count": 7,
      "outputs": [
        {
          "output_type": "stream",
          "name": "stdout",
          "text": [
            "<class 'pandas.core.frame.DataFrame'>\n",
            "RangeIndex: 3333 entries, 0 to 3332\n",
            "Data columns (total 22 columns):\n",
            " #   Column          Non-Null Count  Dtype  \n",
            "---  ------          --------------  -----  \n",
            " 0   State           3333 non-null   object \n",
            " 1   Account Length  3333 non-null   int64  \n",
            " 2   Area Code       3333 non-null   int64  \n",
            " 3   Phone           3333 non-null   object \n",
            " 4   Intl Plan       3333 non-null   object \n",
            " 5   VMail Plan      3333 non-null   object \n",
            " 6   VMail Message   3333 non-null   int64  \n",
            " 7   Day Mins        3333 non-null   float64\n",
            " 8   Day Calls       3333 non-null   int64  \n",
            " 9   Day Charge      3333 non-null   float64\n",
            " 10  Eve Mins        3333 non-null   float64\n",
            " 11  Eve Calls       3333 non-null   int64  \n",
            " 12  Eve Charge      3333 non-null   float64\n",
            " 13  Night Mins      3333 non-null   float64\n",
            " 14  Night Calls     3333 non-null   int64  \n",
            " 15  Night Charge    3333 non-null   float64\n",
            " 16  Intl Mins       3333 non-null   float64\n",
            " 17  Intl Calls      3333 non-null   int64  \n",
            " 18  Intl Charge     3333 non-null   float64\n",
            " 19  CustServ Calls  3333 non-null   int64  \n",
            " 20  Old Churn       3333 non-null   object \n",
            " 21  Churn           3333 non-null   bool   \n",
            "dtypes: bool(1), float64(8), int64(8), object(5)\n",
            "memory usage: 550.2+ KB\n"
          ]
        }
      ]
    },
    {
      "cell_type": "code",
      "metadata": {
        "id": "m36HZ9xWk0GJ",
        "outputId": "8ef06642-547d-40e5-e9e1-b6594af89af7",
        "colab": {
          "base_uri": "https://localhost:8080/",
          "height": 329
        }
      },
      "source": [
        "churn.head()"
      ],
      "execution_count": 8,
      "outputs": [
        {
          "output_type": "execute_result",
          "data": {
            "text/html": [
              "<div>\n",
              "<style scoped>\n",
              "    .dataframe tbody tr th:only-of-type {\n",
              "        vertical-align: middle;\n",
              "    }\n",
              "\n",
              "    .dataframe tbody tr th {\n",
              "        vertical-align: top;\n",
              "    }\n",
              "\n",
              "    .dataframe thead th {\n",
              "        text-align: right;\n",
              "    }\n",
              "</style>\n",
              "<table border=\"1\" class=\"dataframe\">\n",
              "  <thead>\n",
              "    <tr style=\"text-align: right;\">\n",
              "      <th></th>\n",
              "      <th>State</th>\n",
              "      <th>Account Length</th>\n",
              "      <th>Area Code</th>\n",
              "      <th>Phone</th>\n",
              "      <th>Intl Plan</th>\n",
              "      <th>VMail Plan</th>\n",
              "      <th>VMail Message</th>\n",
              "      <th>Day Mins</th>\n",
              "      <th>Day Calls</th>\n",
              "      <th>Day Charge</th>\n",
              "      <th>Eve Mins</th>\n",
              "      <th>Eve Calls</th>\n",
              "      <th>Eve Charge</th>\n",
              "      <th>Night Mins</th>\n",
              "      <th>Night Calls</th>\n",
              "      <th>Night Charge</th>\n",
              "      <th>Intl Mins</th>\n",
              "      <th>Intl Calls</th>\n",
              "      <th>Intl Charge</th>\n",
              "      <th>CustServ Calls</th>\n",
              "      <th>Old Churn</th>\n",
              "      <th>Churn</th>\n",
              "    </tr>\n",
              "  </thead>\n",
              "  <tbody>\n",
              "    <tr>\n",
              "      <th>0</th>\n",
              "      <td>KS</td>\n",
              "      <td>128</td>\n",
              "      <td>415</td>\n",
              "      <td>382-4657</td>\n",
              "      <td>no</td>\n",
              "      <td>yes</td>\n",
              "      <td>25</td>\n",
              "      <td>265.1</td>\n",
              "      <td>110</td>\n",
              "      <td>45.07</td>\n",
              "      <td>197.4</td>\n",
              "      <td>99</td>\n",
              "      <td>16.78</td>\n",
              "      <td>244.7</td>\n",
              "      <td>91</td>\n",
              "      <td>11.01</td>\n",
              "      <td>10.0</td>\n",
              "      <td>3</td>\n",
              "      <td>2.70</td>\n",
              "      <td>1</td>\n",
              "      <td>False.</td>\n",
              "      <td>False</td>\n",
              "    </tr>\n",
              "    <tr>\n",
              "      <th>1</th>\n",
              "      <td>OH</td>\n",
              "      <td>107</td>\n",
              "      <td>415</td>\n",
              "      <td>371-7191</td>\n",
              "      <td>no</td>\n",
              "      <td>yes</td>\n",
              "      <td>26</td>\n",
              "      <td>161.6</td>\n",
              "      <td>123</td>\n",
              "      <td>27.47</td>\n",
              "      <td>195.5</td>\n",
              "      <td>103</td>\n",
              "      <td>16.62</td>\n",
              "      <td>254.4</td>\n",
              "      <td>103</td>\n",
              "      <td>11.45</td>\n",
              "      <td>13.7</td>\n",
              "      <td>3</td>\n",
              "      <td>3.70</td>\n",
              "      <td>1</td>\n",
              "      <td>False.</td>\n",
              "      <td>False</td>\n",
              "    </tr>\n",
              "    <tr>\n",
              "      <th>2</th>\n",
              "      <td>NJ</td>\n",
              "      <td>137</td>\n",
              "      <td>415</td>\n",
              "      <td>358-1921</td>\n",
              "      <td>no</td>\n",
              "      <td>no</td>\n",
              "      <td>0</td>\n",
              "      <td>243.4</td>\n",
              "      <td>114</td>\n",
              "      <td>41.38</td>\n",
              "      <td>121.2</td>\n",
              "      <td>110</td>\n",
              "      <td>10.30</td>\n",
              "      <td>162.6</td>\n",
              "      <td>104</td>\n",
              "      <td>7.32</td>\n",
              "      <td>12.2</td>\n",
              "      <td>5</td>\n",
              "      <td>3.29</td>\n",
              "      <td>0</td>\n",
              "      <td>False.</td>\n",
              "      <td>False</td>\n",
              "    </tr>\n",
              "    <tr>\n",
              "      <th>3</th>\n",
              "      <td>OH</td>\n",
              "      <td>84</td>\n",
              "      <td>408</td>\n",
              "      <td>375-9999</td>\n",
              "      <td>yes</td>\n",
              "      <td>no</td>\n",
              "      <td>0</td>\n",
              "      <td>299.4</td>\n",
              "      <td>71</td>\n",
              "      <td>50.90</td>\n",
              "      <td>61.9</td>\n",
              "      <td>88</td>\n",
              "      <td>5.26</td>\n",
              "      <td>196.9</td>\n",
              "      <td>89</td>\n",
              "      <td>8.86</td>\n",
              "      <td>6.6</td>\n",
              "      <td>7</td>\n",
              "      <td>1.78</td>\n",
              "      <td>2</td>\n",
              "      <td>False.</td>\n",
              "      <td>False</td>\n",
              "    </tr>\n",
              "    <tr>\n",
              "      <th>4</th>\n",
              "      <td>OK</td>\n",
              "      <td>75</td>\n",
              "      <td>415</td>\n",
              "      <td>330-6626</td>\n",
              "      <td>yes</td>\n",
              "      <td>no</td>\n",
              "      <td>0</td>\n",
              "      <td>166.7</td>\n",
              "      <td>113</td>\n",
              "      <td>28.34</td>\n",
              "      <td>148.3</td>\n",
              "      <td>122</td>\n",
              "      <td>12.61</td>\n",
              "      <td>186.9</td>\n",
              "      <td>121</td>\n",
              "      <td>8.41</td>\n",
              "      <td>10.1</td>\n",
              "      <td>3</td>\n",
              "      <td>2.73</td>\n",
              "      <td>3</td>\n",
              "      <td>False.</td>\n",
              "      <td>False</td>\n",
              "    </tr>\n",
              "  </tbody>\n",
              "</table>\n",
              "</div>"
            ],
            "text/plain": [
              "  State  Account Length  Area Code  ... CustServ Calls Old Churn  Churn\n",
              "0    KS             128        415  ...              1    False.  False\n",
              "1    OH             107        415  ...              1    False.  False\n",
              "2    NJ             137        415  ...              0    False.  False\n",
              "3    OH              84        408  ...              2    False.  False\n",
              "4    OK              75        415  ...              3    False.  False\n",
              "\n",
              "[5 rows x 22 columns]"
            ]
          },
          "metadata": {},
          "execution_count": 8
        }
      ]
    },
    {
      "cell_type": "code",
      "metadata": {
        "id": "lFQhWfdrk0GL",
        "outputId": "0f907909-ae44-4be3-d24f-822f34d439e1"
      },
      "source": [
        "\n",
        "#3:  Partition the data set, so that 67% of the records are included in the training data set and\n",
        "# 33% are included in the test data set.\n",
        "# Use a bar graph to confirm your proportions. \n",
        "\n",
        "# import required packages\n",
        "from sklearn.model_selection import train_test_split\n",
        "import random\n",
        "\n",
        "# create partition\n",
        "adult_train, adult_test = train_test_split(adult, test_size = 0.5, random_state = 7)\n",
        "\n",
        "# collect proportion values in a dataframe \n",
        "df = pd.DataFrame({'Partition':['Train', 'Test'],\n",
        "                   'Portion':[(adult_train.shape[0]/adult.shape[0]),\n",
        "                              (adult_test.shape[0]/adult.shape[0])]\n",
        "                   })\n",
        "# create barplot\n",
        "df.set_index('Partition').plot(kind='bar')\n"
      ],
      "execution_count": null,
      "outputs": [
        {
          "data": {
            "text/plain": [
              "<matplotlib.axes._subplots.AxesSubplot at 0x22299db7288>"
            ]
          },
          "execution_count": 3,
          "metadata": {},
          "output_type": "execute_result"
        },
        {
          "data": {
            "image/png": "[encoded data removed]",
            "text/plain": [
              "<Figure size 432x288 with 1 Axes>"
            ]
          },
          "metadata": {
            "needs_background": "light"
          },
          "output_type": "display_data"
        }
      ]
    },
    {
      "cell_type": "code",
      "metadata": {
        "id": "4dyvsQojk0GO",
        "outputId": "9771c16a-6366-4e98-9989-761cb447da99"
      },
      "source": [
        "\n",
        "# Question 22\n",
        "# Identify the total number of records in the training data set, and how many records in the training data set have an income value of >50 K.  \n",
        "\n",
        "print('The total number of records in the training dataset is', adult_train.shape[0])\n",
        "\n",
        "\n",
        "print('There are', adult_train.loc[adult_train['income']=='>50K.'].shape[0], 'records in the training data set that have “>50K” income')\n",
        "\n"
      ],
      "execution_count": null,
      "outputs": [
        {
          "name": "stdout",
          "output_type": "stream",
          "text": [
            "The total number of records in the training dataset is 12500\n",
            "There are 2981 records in the training data set that have “>50K” income\n"
          ]
        }
      ]
    },
    {
      "cell_type": "code",
      "metadata": {
        "id": "RUJ7tdBmk0GR",
        "outputId": "d58654f1-00fb-4cc5-e01c-0c87d509d013"
      },
      "source": [
        "\n",
        "# Question 23\n",
        "# Use your answers from the previous exercise to calculate how many records with income >50 K you need to resample in order to have 35% of the rebalanced data set have incomes of >50 K. \n",
        "\n",
        "# create variables needed to compute resampled record size\n",
        "greater_50K_records = adult_train.loc[adult_train['income']=='>50K.'].shape[0]\n",
        "total_records = adult_train.shape[0]\n",
        "\n",
        "# determin portion size to ressample\n",
        "portion_size = (0.35 * total_records - greater_50K_records) / 0.65\n",
        "print('The portion size is ', portion_size)"
      ],
      "execution_count": null,
      "outputs": [
        {
          "name": "stdout",
          "output_type": "stream",
          "text": [
            "The portion size is  2144.6153846153848\n"
          ]
        }
      ]
    },
    {
      "cell_type": "code",
      "metadata": {
        "id": "E68erMXFk0GU",
        "outputId": "901041d8-6c2a-4ca7-e44b-8a8ee67e9a90"
      },
      "source": [
        "\n",
        "# Question 24\n",
        "# Perform the rebalancing described in the previous exercise and confirm that 35% of the records in the rebalanced data set have incomes >50 K. \n",
        "\n",
        "# subset the records to be resampled\n",
        "to_resample = adult_train.loc[adult_train['income']=='>50K.']\n",
        "\n",
        "# resample the '>50K' records to the determined sample size\n",
        "our_resample = to_resample.sample(n = 2145, replace = True)\n",
        "\n",
        "# concatenate the sampled data with the rest of the training data so that it's rebalanced\n",
        "adult_train_rebal = pd.concat([adult_train, our_resample])\n",
        "adult_train_rebal.info()"
      ],
      "execution_count": null,
      "outputs": [
        {
          "name": "stdout",
          "output_type": "stream",
          "text": [
            "<class 'pandas.core.frame.DataFrame'>\n",
            "Int64Index: 14645 entries, 15055 to 9033\n",
            "Data columns (total 15 columns):\n",
            "age               14645 non-null int64\n",
            "workclass         14645 non-null object\n",
            "demogweight       14645 non-null int64\n",
            "education         14645 non-null object\n",
            "education-num     14645 non-null int64\n",
            "marital-status    14645 non-null object\n",
            "occupation        14645 non-null object\n",
            "relationship      14645 non-null object\n",
            "race              14645 non-null object\n",
            "sex               14645 non-null object\n",
            "capital-gain      14645 non-null int64\n",
            "capital-loss      14645 non-null int64\n",
            "hours-per-week    14645 non-null int64\n",
            "native-country    14645 non-null object\n",
            "income            14645 non-null object\n",
            "dtypes: int64(6), object(9)\n",
            "memory usage: 1.8+ MB\n"
          ]
        }
      ]
    },
    {
      "cell_type": "code",
      "metadata": {
        "id": "B_t1jjiVk0GW",
        "outputId": "f5a9177c-eb05-42d7-8c8f-cd4033a62c5b"
      },
      "source": [
        "\n",
        "# table proportion of income classes in training data\n",
        "proportion_income_classes = adult_train_rebal['income'].value_counts() / adult_train_rebal.shape[0]\n",
        "print('Proportion of incone classes in training data is ',proportion_income_classes)"
      ],
      "execution_count": null,
      "outputs": [
        {
          "name": "stdout",
          "output_type": "stream",
          "text": [
            "Proportion of incone classes in training data is  <=50K.    0.649983\n",
            ">50K.     0.350017\n",
            "Name: income, dtype: float64\n"
          ]
        }
      ]
    },
    {
      "cell_type": "code",
      "metadata": {
        "id": "YL1afajpk0GZ",
        "outputId": "6c44b71a-7f38-4554-b71a-60a2b2c92a12"
      },
      "source": [
        "\n",
        "# Question 25\n",
        "# Which baseline model do we use to compare our classification model performance against? \n",
        "# To which value does this baseline model assign all predictions? \n",
        "# What is the accuracy of this baseline model? \n",
        "\n",
        "# The baseline is determined by looking at which income class has the greatest proportion of the data which is <=50K.\n",
        "# If a model were to predict no >50K then the model would have an accuracy of 76% \n",
        "# Therefore the selected model would have to outperform this baseline model in order to have any use in the real world. \n",
        "\n",
        "baseline_value = adult_train['income'].value_counts() / adult_train.shape[0]\n",
        "print('The baseline is ',baseline_value)"
      ],
      "execution_count": null,
      "outputs": [
        {
          "name": "stdout",
          "output_type": "stream",
          "text": [
            "The baseline is  <=50K.    0.76152\n",
            ">50K.     0.23848\n",
            "Name: income, dtype: float64\n"
          ]
        }
      ]
    },
    {
      "cell_type": "code",
      "metadata": {
        "id": "jzaxnp5pk0Gc",
        "outputId": "8f84ad30-97ca-4682-f55b-26608ad1eb82"
      },
      "source": [
        "\n",
        "# Question 26\n",
        "# Validate your partition by performing a two‐sample Z‐test for the difference in means for the mean age in the training set versus the mean age in the test set.\n",
        "\n",
        "from numpy import sqrt, abs, round\n",
        "from scipy.stats import norm\n",
        "from statistics import stdev\n",
        "\n",
        "n1 = adult_train.shape[0]\n",
        "x1 = adult_train['age'].mean()\n",
        "sd1 = stdev(adult_train['age'])\n",
        "\n",
        "n2 = adult_test.shape[0]\n",
        "x2 = adult_test['age'].mean()\n",
        "sd2 = stdev(adult_test['age'])\n",
        "\n",
        "# calculate the denominator pooled standard error\n",
        "pooledSE = sqrt(sd1**2/n1 + sd2**2/n2)\n",
        "\n",
        "#calculate z value\n",
        "z = round(((x1 - x2) - 0) /pooledSE,6)\n",
        "\n",
        "# caluculate p-value\n",
        "pval =  round(2*(1 - norm.cdf(abs(z))),6)\n",
        "\n",
        "print('Z is ',z,'P value is ',pval)\n"
      ],
      "execution_count": null,
      "outputs": [
        {
          "name": "stdout",
          "output_type": "stream",
          "text": [
            "Z is  0.039274 P value is  0.968672\n"
          ]
        }
      ]
    },
    {
      "cell_type": "code",
      "metadata": {
        "id": "DCyNhYj6k0Gg",
        "outputId": "0de68c09-e2e1-4628-e8c4-8a4c41c85cdc"
      },
      "source": [
        "\n",
        "# Because the p-value > than alpha 0.05 the null hypothesis H0 is accepted.\n",
        "# Meaning that there is not evidence of significant differences between the age in the train and test datasets \n",
        "\n",
        "# Question 27\n",
        "# Validate your partition by performing a two‐sample Z‐test for the difference in proportions \n",
        "# for the proportion of >50 K records in the training set versus the proportion of >50 K records in the test set. \n",
        "\n",
        "n1 = adult_train.shape[0]\n",
        "x1 = adult_train.loc[adult_train['income']=='>50K.'].shape[0]\n",
        "p1 = x1 / n1\n",
        "\n",
        "n2 = adult_test.shape[0]\n",
        "x2 = adult_test.loc[adult_test['income']=='>50K.'].shape[0] \n",
        "p2 = x2 / n2\n",
        "\n",
        "p = (x1+x2)/(n1+n2)\n",
        "\n",
        "#calculate z value\n",
        "z = round(((p1-p2)-0)/sqrt(p*(1-p)*(1/n1+1/n2)),6)\n",
        "\n",
        "# caluculate p-value\n",
        "pval =  round(2*(1 - norm.cdf(abs(z))),6)\n",
        "print('Z is ',z,'P value is ',pval)\n",
        "\n"
      ],
      "execution_count": null,
      "outputs": [
        {
          "name": "stdout",
          "output_type": "stream",
          "text": [
            "Z is  -0.32609 P value is  0.744356\n"
          ]
        }
      ]
    },
    {
      "cell_type": "code",
      "metadata": {
        "id": "EuqXc1Uwk0Gi"
      },
      "source": [
        "\n",
        "# Because the p-value > than alpha 0.05 the null hypothesis H0 is accepted.\n",
        "# Meaning that there is not evidence of significant difference between the >50K income proportions in the training and test datasets \n",
        "#"
      ],
      "execution_count": null,
      "outputs": []
    }
  ]
}